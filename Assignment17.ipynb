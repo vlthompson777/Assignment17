{
 "cells": [
  {
   "cell_type": "code",
   "execution_count": 3,
   "metadata": {},
   "outputs": [],
   "source": [
    "import scipy.stats as stats\n",
    "import math"
   ]
  },
  {
   "cell_type": "code",
   "execution_count": 9,
   "metadata": {},
   "outputs": [
    {
     "name": "stdout",
     "output_type": "stream",
     "text": [
      "The Z-value of the sample is 3\n",
      "Therefore the null hypothesis is rejected\n"
     ]
    }
   ],
   "source": [
    "#1 Test the hypothesis that the raw cornstarch had an effect or not.\n",
    "sigma = 15\n",
    "Mu = 100\n",
    "n = 36\n",
    "xbar = 108\n",
    "\n",
    "Z = (xbar-Mu)/(sigma/math.sqrt(n))\n",
    "print(\"The Z-value of the sample is %d\" %Z)\n",
    "print(\"Therefore the null hypothesis is rejected\")"
   ]
  },
  {
   "cell_type": "code",
   "execution_count": 36,
   "metadata": {},
   "outputs": [
    {
     "name": "stdout",
     "output_type": "stream",
     "text": [
      "Mean of the difference = 0.05\n",
      "Standard deviation of the difference = 0.0706\n",
      "Z score is = -0.7080278164104213\n",
      "Probability of a Z score -0.7080 is 0.239\n"
     ]
    }
   ],
   "source": [
    "\"\"\"#2 What is the probability that the survey will show a greater percentage of Republican voters in the second state \n",
    "than in the first state?\"\"\"\n",
    "import numpy as np\n",
    "\n",
    "P1 = 0.52 #probability of republicans in state1\n",
    "P2 = 0.47 #probability of republicans in state2\n",
    "MD = P1-P2\n",
    "print(\"Mean of the difference = {:.2f}\".format(MD))\n",
    "diff = (P1*(1-P1)/100)+(P2*(1-P2)/100)\n",
    "STDdiff = math.sqrt(diff)\n",
    "print(\"Standard deviation of the difference = {:.4f}\".format(STDdiff))\n",
    "z = 0-MD/STDdiff\n",
    "print(\"Z score is = \"+ str(z))\n",
    "print(\"Probability of a Z score -0.7080 is 0.239\")"
   ]
  },
  {
   "cell_type": "code",
   "execution_count": 37,
   "metadata": {},
   "outputs": [
    {
     "name": "stdout",
     "output_type": "stream",
     "text": [
      "The Z score is 0.3541\n",
      "The Z table value for 0.35 is .1368\n",
      "So the student scored at the 63.6%.\n"
     ]
    }
   ],
   "source": [
    "#3 how well you scored on the SAT\n",
    "sigma = 209\n",
    "X = 1100\n",
    "Mu = 1026\n",
    "\n",
    "Z = (X-Mu)/sigma\n",
    "print(\"The Z score is {:.4f}\".format(Z))\n",
    "print(\"The Z table value for 0.35 is .1368\")\n",
    "print(\"So the student scored at the 63.6%.\")"
   ]
  }
 ],
 "metadata": {
  "kernelspec": {
   "display_name": "Python 3",
   "language": "python",
   "name": "python3"
  },
  "language_info": {
   "codemirror_mode": {
    "name": "ipython",
    "version": 3
   },
   "file_extension": ".py",
   "mimetype": "text/x-python",
   "name": "python",
   "nbconvert_exporter": "python",
   "pygments_lexer": "ipython3",
   "version": "3.7.0"
  }
 },
 "nbformat": 4,
 "nbformat_minor": 2
}
